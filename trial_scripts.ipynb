{
 "cells": [
  {
   "cell_type": "code",
   "execution_count": null,
   "metadata": {},
   "outputs": [],
   "source": [
    "import random\n",
    "from string import ascii_uppercase, ascii_letters\n",
    "from pprint import pprint\n",
    "from copy import deepcopy\n",
    "import dill\n",
    "# import numpy as np\n",
    "# import pandas as pd\n",
    "# pd.set_option('display.max_columns', 27)\n",
    "# import networkx as nx\n",
    "# import matplotlib.pyplot as plt\n",
    "# import matplotlib.colors as mclr"
   ]
  },
  {
   "cell_type": "code",
   "execution_count": null,
   "metadata": {},
   "outputs": [],
   "source": [
    "from enigma.enigma import Enigma3, MenuMaker\n",
    "from enigma.bombe import Bombe"
   ]
  },
  {
   "cell_type": "markdown",
   "metadata": {},
   "source": [
    "### Encode message, under particular enigma settings and initial operator code"
   ]
  },
  {
   "cell_type": "code",
   "execution_count": null,
   "metadata": {},
   "outputs": [],
   "source": [
    "eg1 = Enigma3('I','II','III','B')"
   ]
  },
  {
   "cell_type": "code",
   "execution_count": null,
   "metadata": {},
   "outputs": [],
   "source": [
    "word = 'oh what a beautiful morning oh what a beautiful day i have a wonderful feeling everythings going my way'\n",
    "# word = \"to the president of the united states\""
   ]
  },
  {
   "cell_type": "code",
   "execution_count": null,
   "metadata": {},
   "outputs": [],
   "source": [
    "## 'INH' gives 3 loops\n",
    "## NPG gives some funky loops worth investigating further\n",
    "## made some graphs with YLV\n",
    "opcode = 'INH'   \n",
    "## try 'PJM' - gives some strange results, need to work on sorting out whats a loop and what isn't better\n",
    "## operator set starting position, traditionally different for each new message"
   ]
  },
  {
   "cell_type": "code",
   "execution_count": null,
   "metadata": {},
   "outputs": [],
   "source": [
    "igged = eg1.enigmatise(word, startset=opcode)\n",
    "reword = eg1.enigmatise(igged, startset=opcode)\n",
    "print(igged)\n",
    "print(reword)"
   ]
  },
  {
   "cell_type": "markdown",
   "metadata": {},
   "source": [
    "### Use crib to create Menu for Bombe"
   ]
  },
  {
   "cell_type": "code",
   "execution_count": null,
   "metadata": {},
   "outputs": [],
   "source": [
    "crib = 'OHWHATABEAUTIFULDAY'\n",
    "lncrib = len(crib)\n",
    "\n",
    "mcrib = igged[23:23+lncrib]\n",
    "print(crib)\n",
    "print(mcrib)"
   ]
  },
  {
   "cell_type": "code",
   "execution_count": null,
   "metadata": {},
   "outputs": [],
   "source": [
    "mm = MenuMaker(crib,mcrib)\n",
    "mm.process_stuff()\n",
    "print('\\nFound Loops: ',mm.found_loops)\n",
    "print('Dead Ends:   ',mm.dead_ends)\n",
    "mm.network_graph(reset_pos=True)"
   ]
  },
  {
   "cell_type": "code",
   "execution_count": null,
   "metadata": {},
   "outputs": [],
   "source": [
    "mm.prep_menu(length_of_menu=5)\n",
    "print('\\nMenu Length:',len(mm.menu),'\\n')\n",
    "pprint(mm.menu)"
   ]
  },
  {
   "cell_type": "markdown",
   "metadata": {},
   "source": [
    "### Use this Menu in a Bombe"
   ]
  },
  {
   "cell_type": "code",
   "execution_count": null,
   "metadata": {},
   "outputs": [],
   "source": [
    "tb1 = Bombe(mm.menu,'I','II','III','B')"
   ]
  },
  {
   "cell_type": "code",
   "execution_count": null,
   "metadata": {},
   "outputs": [],
   "source": [
    "while tb1.identity_scrambler.current_position != 'IPI':\n",
    "    tb1.spin_scramblers()\n",
    "print(tb1.identity_scrambler.current_position)\n",
    "## for INH, start at IPI so that it is IPJ going in, that is correct position"
   ]
  },
  {
   "cell_type": "code",
   "execution_count": null,
   "metadata": {},
   "outputs": [],
   "source": [
    "tb1.test_char = 'A'\n",
    "tb1.test_char "
   ]
  },
  {
   "cell_type": "code",
   "execution_count": null,
   "metadata": {},
   "outputs": [],
   "source": []
  },
  {
   "cell_type": "code",
   "execution_count": null,
   "metadata": {},
   "outputs": [],
   "source": []
  },
  {
   "cell_type": "code",
   "execution_count": null,
   "metadata": {},
   "outputs": [],
   "source": []
  },
  {
   "cell_type": "code",
   "execution_count": null,
   "metadata": {},
   "outputs": [],
   "source": []
  },
  {
   "cell_type": "code",
   "execution_count": null,
   "metadata": {},
   "outputs": [],
   "source": []
  },
  {
   "cell_type": "code",
   "execution_count": null,
   "metadata": {},
   "outputs": [],
   "source": []
  }
 ],
 "metadata": {
  "kernelspec": {
   "display_name": "Python 3",
   "language": "python",
   "name": "python3"
  },
  "language_info": {
   "codemirror_mode": {
    "name": "ipython",
    "version": 3
   },
   "file_extension": ".py",
   "mimetype": "text/x-python",
   "name": "python",
   "nbconvert_exporter": "python",
   "pygments_lexer": "ipython3",
   "version": "3.7.8"
  }
 },
 "nbformat": 4,
 "nbformat_minor": 4
}
