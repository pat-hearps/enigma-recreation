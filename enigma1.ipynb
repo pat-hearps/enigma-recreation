{
 "cells": [
  {
   "cell_type": "code",
   "execution_count": 1,
   "metadata": {},
   "outputs": [],
   "source": [
    "import random\n",
    "from string import ascii_uppercase\n",
    "from pprint import pprint"
   ]
  },
  {
   "cell_type": "code",
   "execution_count": 2,
   "metadata": {},
   "outputs": [],
   "source": [
    "## from http://users.telenet.be/d.rijmenants/en/enigmatech.htm\n",
    "entry = 'ABCDEFGHIJKLMNOPQRSTUVWXYZ'  #(rotor right side)   \n",
    "I     = 'EKMFLGDQVZNTOWYHXUSPAIBRCJ'\n",
    "II    = 'AJDKSIRUXBLHWTMCQGZNPYFVOE'\n",
    "III   = 'BDFHJLCPRTXVZNYEIWGAKMUSQO'\n",
    "IV    = 'ESOVPZJAYQUIRHXLNFTGKDCMWB'\n",
    "V     = 'VZBRGITYUPSDNHLXAWMJQOFECK'\n",
    "## Additional rotors used by Kriegsmarine M3 and M4 only:\n",
    "VI    = 'JPGVOUMFYQBENHZRDKASXLICTW'\n",
    "VII   = 'NZJHGRCXMYSWBOUFAIVLPEKQDT'\n",
    "VIII  = 'FKQHTLXOCBJSPDZRAMEWNIUYGV'\n",
    "\n",
    "## reflectors, standard army & airforce\n",
    "contacts   = 'ABCDEFGHIJKLMNOPQRSTUVWXYZ' \n",
    "breflector = 'YRUHQSLDPXNGOKMIEBFZCWVJAT'\n",
    "creflector = 'FVPJIAOYEDRZXWGCTKUQSBNMHL'"
   ]
  },
  {
   "cell_type": "code",
   "execution_count": 3,
   "metadata": {},
   "outputs": [
    {
     "name": "stdout",
     "output_type": "stream",
     "text": [
      "{'I': 'EKMFLGDQVZNTOWYHXUSPAIBRCJ', 'II': 'AJDKSIRUXBLHWTMCQGZNPYFVOE', 'III': 'BDFHJLCPRTXVZNYEIWGAKMUSQO', 'IV': 'ESOVPZJAYQUIRHXLNFTGKDCMWB', 'V': 'VZBRGITYUPSDNHLXAWMJQOFECK'}\n"
     ]
    }
   ],
   "source": [
    "raw_rotors = {'I':I, 'II':II, 'III':III, 'IV':IV, 'V':V}\n",
    "print(raw_rotors)"
   ]
  },
  {
   "cell_type": "code",
   "execution_count": 4,
   "metadata": {},
   "outputs": [
    {
     "name": "stdout",
     "output_type": "stream",
     "text": [
      "I : [4, 10, 12, 5, 11, 6, 3, 16, 21, 25, 13, 19, 14, 22, 24, 7, 23, 20, 18, 15, 0, 8, 1, 17, 2, 9]\n",
      "II : [0, 9, 3, 10, 18, 8, 17, 20, 23, 1, 11, 7, 22, 19, 12, 2, 16, 6, 25, 13, 15, 24, 5, 21, 14, 4]\n",
      "III : [1, 3, 5, 7, 9, 11, 2, 15, 17, 19, 23, 21, 25, 13, 24, 4, 8, 22, 6, 0, 10, 12, 20, 18, 16, 14]\n",
      "IV : [4, 18, 14, 21, 15, 25, 9, 0, 24, 16, 20, 8, 17, 7, 23, 11, 13, 5, 19, 6, 10, 3, 2, 12, 22, 1]\n",
      "V : [21, 25, 1, 17, 6, 8, 19, 24, 20, 15, 18, 3, 13, 7, 11, 23, 0, 22, 12, 9, 16, 14, 5, 4, 2, 10]\n"
     ]
    }
   ],
   "source": [
    "base_rotors = {'I':[], 'II':[], 'III':[], 'IV':[], 'V':[]}\n",
    "for k in base_rotors.keys():\n",
    "    base_rotors[k] = [ascii_uppercase.index(c) for c in raw_rotors[k]]\n",
    "# rI = [ascii_uppercase.index(c) for c in I]\n",
    "for k,v in base_rotors.items():\n",
    "    print(k,':',v)"
   ]
  },
  {
   "cell_type": "code",
   "execution_count": 42,
   "metadata": {},
   "outputs": [
    {
     "name": "stdout",
     "output_type": "stream",
     "text": [
      "I : [20, 22, 24, 6, 0, 3, 5, 15, 21, 25, 1, 4, 2, 10, 12, 19, 7, 23, 18, 11, 17, 8, 13, 16, 14, 9]\n",
      "II : [0, 9, 15, 2, 25, 22, 17, 11, 5, 1, 3, 10, 14, 19, 24, 20, 16, 6, 4, 13, 7, 23, 12, 8, 21, 18]\n",
      "III : [19, 0, 6, 1, 15, 2, 18, 3, 16, 4, 20, 5, 21, 13, 25, 7, 24, 8, 23, 9, 22, 11, 17, 10, 14, 12]\n",
      "IV : [7, 25, 22, 21, 0, 17, 19, 13, 11, 6, 20, 15, 23, 16, 2, 4, 9, 12, 1, 18, 10, 3, 24, 14, 8, 5]\n",
      "V : [16, 2, 24, 11, 23, 22, 4, 13, 5, 19, 25, 14, 18, 12, 21, 9, 20, 3, 10, 6, 8, 0, 17, 15, 7, 1]\n"
     ]
    }
   ],
   "source": [
    "rev_rotors = {}\n",
    "\n",
    "for r in raw_rotors.keys():\n",
    "    working = {k:entry.index(v) for k,v in zip(raw_rotors[r],entry)}\n",
    "    rev_rotors[r] = [working[k] for k in sorted(working.keys())]\n",
    "\n",
    "for k,v in rev_rotors.items():\n",
    "    print(k,':',v)"
   ]
  },
  {
   "cell_type": "code",
   "execution_count": 21,
   "metadata": {},
   "outputs": [
    {
     "name": "stdout",
     "output_type": "stream",
     "text": [
      "{'Brf': {'A': 'Y', 'B': 'R', 'C': 'U', 'D': 'H', 'E': 'Q', 'F': 'S', 'G': 'L', 'H': 'D', 'I': 'P', 'J': 'X', 'K': 'N', 'L': 'G', 'M': 'O', 'N': 'K', 'O': 'M', 'P': 'I', 'Q': 'E', 'R': 'B', 'S': 'F', 'T': 'Z', 'U': 'C', 'V': 'W', 'W': 'V', 'X': 'J', 'Y': 'A', 'Z': 'T'}, 'Crf': {'A': 'F', 'B': 'V', 'C': 'P', 'D': 'J', 'E': 'I', 'F': 'A', 'G': 'O', 'H': 'Y', 'I': 'E', 'J': 'D', 'K': 'R', 'L': 'Z', 'M': 'X', 'N': 'W', 'O': 'G', 'P': 'C', 'Q': 'T', 'R': 'K', 'S': 'U', 'T': 'Q', 'U': 'S', 'V': 'B', 'W': 'N', 'X': 'M', 'Y': 'H', 'Z': 'L'}}\n"
     ]
    }
   ],
   "source": [
    "reflectors = {'Brf': {k:v for k,v in zip(entry, breflector)}, 'Crf': {k:v for k,v in zip(entry, creflector)}}\n",
    "print(reflectors)"
   ]
  },
  {
   "cell_type": "code",
   "execution_count": 48,
   "metadata": {},
   "outputs": [
    {
     "name": "stdout",
     "output_type": "stream",
     "text": [
      "first rotor:   D --> F\n",
      "second rotor:  F --> I\n",
      "third rotor:   I --> R\n"
     ]
    },
    {
     "data": {
      "text/plain": [
       "'R'"
      ]
     },
     "execution_count": 48,
     "metadata": {},
     "output_type": "execute_result"
    }
   ],
   "source": [
    "def once_thru_scramble(ch, direction='forward', first_rotor='I', second_rotor='II', third_rotor='III'):\n",
    "    \"\"\" ch must be single ASCII character A-Z\n",
    "    direction is either 'forward' or 'back' \"\"\"\n",
    "    if direction == 'forward':\n",
    "        usedict = {k:v for k,v in base_rotors.items()}\n",
    "    elif direction == 'back':\n",
    "        usedict = {k:v for k,v in rev_rotors.items()}\n",
    "    else:\n",
    "        print('only forward or back for direction')\n",
    "        return 'wtf'\n",
    "    \n",
    "    entry = ascii_uppercase\n",
    "    ch = ch.upper()\n",
    "    entry_pos = entry.index(ch)\n",
    "#     print(entry_pos)\n",
    "    fst_out = usedict[first_rotor][entry_pos]\n",
    "#     print(fst_out)\n",
    "    ch1 = entry[fst_out]\n",
    "    print('first rotor:  ', ch, '-->', ch1)\n",
    "    scd_out = usedict[second_rotor][fst_out]\n",
    "#     print(scd_out)\n",
    "    ch2 = entry[scd_out]\n",
    "    print('second rotor: ', ch1, '-->', ch2)\n",
    "    thd_out = usedict[third_rotor][scd_out]\n",
    "#     print(thd_out)\n",
    "    ch3 = entry[thd_out]\n",
    "    print('third rotor:  ', ch2, '-->', ch3)\n",
    "    \n",
    "    return ch3\n",
    "    \n",
    "    \n",
    "once_thru_scramble('d')"
   ]
  },
  {
   "cell_type": "code",
   "execution_count": 53,
   "metadata": {},
   "outputs": [
    {
     "name": "stdout",
     "output_type": "stream",
     "text": [
      "first rotor:   A --> E\n",
      "second rotor:  E --> S\n",
      "third rotor:   S --> G\n",
      "reflected:     G --> L\n",
      "first rotor:   L --> F\n",
      "second rotor:  F --> W\n",
      "third rotor:   W --> N\n"
     ]
    },
    {
     "data": {
      "text/plain": [
       "'N'"
      ]
     },
     "execution_count": 53,
     "metadata": {},
     "output_type": "execute_result"
    }
   ],
   "source": [
    "def full_scramble(in_ch, left_rotor='I', middle_rotor='II', right_rotor='III', rflector='Brf'):\n",
    "    entry = ascii_uppercase\n",
    "    in_ch = in_ch.upper()\n",
    "    forward_run = once_thru_scramble(in_ch, 'forward', left_rotor, middle_rotor, right_rotor)\n",
    "    \n",
    "    mirrored = reflectors[rflector][forward_run]\n",
    "    print('reflected:    ', forward_run, '-->', mirrored)\n",
    "    \n",
    "    back_run = once_thru_scramble(mirrored, 'back', right_rotor, middle_rotor, left_rotor)\n",
    "    \n",
    "    return back_run\n",
    "\n",
    "full_scramble('a')"
   ]
  },
  {
   "cell_type": "code",
   "execution_count": null,
   "metadata": {},
   "outputs": [],
   "source": []
  }
 ],
 "metadata": {
  "kernelspec": {
   "display_name": "Python 3",
   "language": "python",
   "name": "python3"
  },
  "language_info": {
   "codemirror_mode": {
    "name": "ipython",
    "version": 3
   },
   "file_extension": ".py",
   "mimetype": "text/x-python",
   "name": "python",
   "nbconvert_exporter": "python",
   "pygments_lexer": "ipython3",
   "version": "3.6.8"
  }
 },
 "nbformat": 4,
 "nbformat_minor": 2
}
