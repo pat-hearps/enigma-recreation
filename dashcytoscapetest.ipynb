{
 "cells": [
  {
   "cell_type": "code",
   "execution_count": null,
   "metadata": {},
   "outputs": [],
   "source": [
    "import dash\n",
    "import dash_cytoscape as cyto\n",
    "import dash_html_components as html\n",
    "from jupyter_plotly_dash import JupyterDash\n",
    "from pprint import pprint\n",
    "import dill"
   ]
  },
  {
   "cell_type": "code",
   "execution_count": null,
   "metadata": {},
   "outputs": [],
   "source": [
    "entry = 'ABCDEFGHIJKLMNOPQRSTUVWXYZ'\n",
    "iomap = {'in':'I', 'out':'O', 'conx_in':'I', 'conx_out':'O'}"
   ]
  },
  {
   "cell_type": "code",
   "execution_count": null,
   "metadata": {},
   "outputs": [],
   "source": [
    "with open('menu_transfer.pickle', 'rb') as infile:\n",
    "    menu = dill.load(infile)\n",
    "# menu"
   ]
  },
  {
   "cell_type": "code",
   "execution_count": null,
   "metadata": {},
   "outputs": [],
   "source": [
    "# print(menu[12])\n",
    "print(menu[6])"
   ]
  },
  {
   "cell_type": "code",
   "execution_count": null,
   "metadata": {},
   "outputs": [],
   "source": [
    "nodes = []\n",
    "edges = []\n",
    "\n",
    "for scr_id, descriptor_dict in menu.items():\n",
    "#     if scr_id not in [12,4]:\n",
    "#         pass\n",
    "#     else:\n",
    "    if True:\n",
    "        node_dict = {'data':{\n",
    "                            'id':scr_id,\n",
    "                            'label':str(scr_id)+':'+descriptor_dict['menu_link']\n",
    "                            }\n",
    "                    }\n",
    "        nodes.append(node_dict)\n",
    "        for inorout in ['in','out']:\n",
    "            for scr2id, side in descriptor_dict['conxns'][inorout].items():\n",
    "                edge_dict = {'data':{\n",
    "                                    'source':scr_id,\n",
    "                                    'target':scr2id\n",
    "                            }}\n",
    "                edges.append(edge_dict)\n",
    "print('nodes: ',nodes)\n",
    "print('edges: ', edges)"
   ]
  },
  {
   "cell_type": "code",
   "execution_count": null,
   "metadata": {},
   "outputs": [],
   "source": [
    "# edges = [edges[1]] #+ [edges[2]]\n",
    "# edges"
   ]
  },
  {
   "cell_type": "code",
   "execution_count": null,
   "metadata": {},
   "outputs": [],
   "source": [
    "def transform_node(node, position):\n",
    "    print(node, position)\n",
    "    return position"
   ]
  },
  {
   "cell_type": "code",
   "execution_count": null,
   "metadata": {},
   "outputs": [],
   "source": [
    "app = JupyterDash(\"example1\")\n",
    "cyto.load_extra_layouts()\n",
    "app.layout = html.Div([\n",
    "    cyto.Cytoscape(\n",
    "        id='cytoscape_try1',\n",
    "#         layout={'name':'circle','radius':500},\n",
    "        layout={'name':'grid','rows':4, 'transform':transform_node},\n",
    "        style={'width':'100%', 'height' : '450px'},\n",
    "        elements = nodes + edges\n",
    "    )\n",
    "])"
   ]
  },
  {
   "cell_type": "code",
   "execution_count": null,
   "metadata": {},
   "outputs": [],
   "source": [
    "type(app)"
   ]
  },
  {
   "cell_type": "code",
   "execution_count": null,
   "metadata": {},
   "outputs": [],
   "source": [
    "app.get_app_root_url()"
   ]
  },
  {
   "cell_type": "code",
   "execution_count": null,
   "metadata": {},
   "outputs": [],
   "source": [
    "# app"
   ]
  },
  {
   "cell_type": "code",
   "execution_count": null,
   "metadata": {},
   "outputs": [],
   "source": [
    "# for child in app.layout.children:\n",
    "#     for c in child.elements:\n",
    "#         print (c)"
   ]
  },
  {
   "cell_type": "code",
   "execution_count": null,
   "metadata": {},
   "outputs": [],
   "source": [
    "parents = []\n",
    "children = []\n",
    "pedges = []\n",
    "\n",
    "for scr_id, descriptor_dict in menu.items():\n",
    "    if scr_id not in [12,4]:\n",
    "        pass\n",
    "    else:\n",
    "#     if True:\n",
    "        parent_dict = {'data':{\n",
    "                            'id':scr_id,\n",
    "                            'label':str(scr_id)+':'+descriptor_dict['menu_link']\n",
    "                            }\n",
    "                    }\n",
    "        parents.append(parent_dict)\n",
    "        \n",
    "        for inorout in ['in','out']:\n",
    "            for char in entry:\n",
    "                child_dict = {'data':{\n",
    "                                    'id':f\"{str(scr_id)}-{iomap[inorout]}-{char}\",\n",
    "                                    'label':f\"{str(scr_id)}-{iomap[inorout]}-{char}\",\n",
    "                                    'parent':scr_id\n",
    "                            }}\n",
    "                children.append(child_dict)\n",
    "        if scr_id == 12:\n",
    "            for inorout in ['in','out']:\n",
    "                for scr2id, side in descriptor_dict['conxns'][inorout].items():\n",
    "                    for char in entry:\n",
    "                        edge_dict = {'data':{\n",
    "                                            'source':f\"{str(scr_id)}-{iomap[inorout]}-{char}\",\n",
    "                                            'target':f\"{str(scr2id)}-{iomap[side]}-{char}\"\n",
    "                                    }}\n",
    "                        pedges.append(edge_dict)\n",
    "# print('parents: ',parents)\n",
    "# print('children: ')\n",
    "# for c in children:\n",
    "#     print('    ',c)\n",
    "# print('edges: ')\n",
    "# for p in pedges:\n",
    "#     print('      ',p)"
   ]
  },
  {
   "cell_type": "code",
   "execution_count": null,
   "metadata": {},
   "outputs": [],
   "source": [
    "papp = JupyterDash(\"example1\")\n",
    "cyto.load_extra_layouts()\n",
    "papp.layout = html.Div([\n",
    "    cyto.Cytoscape(\n",
    "        id='cytoscape_try1',\n",
    "        layout={'name':'grid'},\n",
    "        style={'width':'80%', 'height' : '350px'},\n",
    "        elements = parents + children + pedges\n",
    "    )\n",
    "])"
   ]
  },
  {
   "cell_type": "code",
   "execution_count": null,
   "metadata": {},
   "outputs": [],
   "source": [
    "papp"
   ]
  },
  {
   "cell_type": "code",
   "execution_count": null,
   "metadata": {},
   "outputs": [],
   "source": []
  },
  {
   "cell_type": "code",
   "execution_count": null,
   "metadata": {},
   "outputs": [],
   "source": []
  }
 ],
 "metadata": {
  "kernelspec": {
   "display_name": "Python 3",
   "language": "python",
   "name": "python3"
  },
  "language_info": {
   "codemirror_mode": {
    "name": "ipython",
    "version": 3
   },
   "file_extension": ".py",
   "mimetype": "text/x-python",
   "name": "python",
   "nbconvert_exporter": "python",
   "pygments_lexer": "ipython3",
   "version": "3.6.8"
  }
 },
 "nbformat": 4,
 "nbformat_minor": 2
}
