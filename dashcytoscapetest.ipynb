{
 "cells": [
  {
   "cell_type": "code",
   "execution_count": 1,
   "metadata": {},
   "outputs": [],
   "source": [
    "import dash\n",
    "import dash_cytoscape as cyto\n",
    "import dash_html_components as html\n",
    "\n",
    "from jupyter_plotly_dash import JupyterDash"
   ]
  },
  {
   "cell_type": "code",
   "execution_count": 3,
   "metadata": {},
   "outputs": [],
   "source": [
    "import dill"
   ]
  },
  {
   "cell_type": "code",
   "execution_count": 4,
   "metadata": {},
   "outputs": [
    {
     "data": {
      "text/plain": [
       "{6: {'in': 'M',\n",
       "  'out': 'A',\n",
       "  'menu_link': 'ZZF',\n",
       "  'conx_in': {8: 'out'},\n",
       "  'conx_out': {10: 'out', 17: 'in', 4: 'out', 9: 'out'}},\n",
       " 8: {'in': 'E',\n",
       "  'out': 'M',\n",
       "  'menu_link': 'ZZH',\n",
       "  'conx_in': {14: 'in', 17: 'out'},\n",
       "  'conx_out': {6: 'in'}},\n",
       " 14: {'in': 'E',\n",
       "  'out': 'U',\n",
       "  'menu_link': 'ZZN',\n",
       "  'conx_in': {8: 'in', 17: 'out'},\n",
       "  'conx_out': {10: 'in'}},\n",
       " 10: {'in': 'U',\n",
       "  'out': 'A',\n",
       "  'menu_link': 'ZZJ',\n",
       "  'conx_in': {14: 'out'},\n",
       "  'conx_out': {6: 'out', 17: 'in', 4: 'out', 9: 'out'}},\n",
       " 17: {'in': 'A',\n",
       "  'out': 'E',\n",
       "  'menu_link': 'ZZQ',\n",
       "  'conx_in': {6: 'out', 10: 'out', 4: 'out', 9: 'out'},\n",
       "  'conx_out': {8: 'in', 14: 'in'}},\n",
       " 7: {'in': 'Z',\n",
       "  'out': 'B',\n",
       "  'menu_link': 'ZZG',\n",
       "  'conx_in': {},\n",
       "  'conx_out': {5: 'in'}},\n",
       " 5: {'in': 'B',\n",
       "  'out': 'T',\n",
       "  'menu_link': 'ZZE',\n",
       "  'conx_in': {7: 'out'},\n",
       "  'conx_out': {11: 'in'}},\n",
       " 11: {'in': 'T',\n",
       "  'out': 'I',\n",
       "  'menu_link': 'ZZK',\n",
       "  'conx_in': {5: 'out'},\n",
       "  'conx_out': {12: 'in'}},\n",
       " 12: {'in': 'I',\n",
       "  'out': 'P',\n",
       "  'menu_link': 'ZZL',\n",
       "  'conx_in': {11: 'out'},\n",
       "  'conx_out': {4: 'in'}},\n",
       " 4: {'in': 'P',\n",
       "  'out': 'A',\n",
       "  'menu_link': 'ZZD',\n",
       "  'conx_in': {12: 'out'},\n",
       "  'conx_out': {6: 'out', 10: 'out', 17: 'in', 9: 'out'}},\n",
       " 9: {'in': 'X',\n",
       "  'out': 'A',\n",
       "  'menu_link': 'ZZI',\n",
       "  'conx_in': {},\n",
       "  'conx_out': {6: 'out', 10: 'out', 17: 'in', 4: 'out'}},\n",
       " 'config': {'test_char': 'A',\n",
       "  'menu_link': 'QQQ',\n",
       "  'in': 'A',\n",
       "  'out': 'A',\n",
       "  'conx_in': {6: 'out', 10: 'out', 17: 'in', 4: 'out', 9: 'out'},\n",
       "  'conx_out': {6: 'out', 10: 'out', 17: 'in', 4: 'out', 9: 'out'}}}"
      ]
     },
     "execution_count": 4,
     "metadata": {},
     "output_type": "execute_result"
    }
   ],
   "source": [
    "with open('menu_transfer.pickle', 'rb') as infile:\n",
    "    menu = dill.load(infile)\n",
    "menu"
   ]
  },
  {
   "cell_type": "code",
   "execution_count": 2,
   "metadata": {},
   "outputs": [],
   "source": [
    "app = JupyterDash(\"example1\")"
   ]
  },
  {
   "cell_type": "code",
   "execution_count": null,
   "metadata": {},
   "outputs": [],
   "source": []
  }
 ],
 "metadata": {
  "kernelspec": {
   "display_name": "Python 3",
   "language": "python",
   "name": "python3"
  },
  "language_info": {
   "codemirror_mode": {
    "name": "ipython",
    "version": 3
   },
   "file_extension": ".py",
   "mimetype": "text/x-python",
   "name": "python",
   "nbconvert_exporter": "python",
   "pygments_lexer": "ipython3",
   "version": "3.6.8"
  }
 },
 "nbformat": 4,
 "nbformat_minor": 2
}
