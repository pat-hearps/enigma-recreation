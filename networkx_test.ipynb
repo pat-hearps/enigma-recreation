{
 "cells": [
  {
   "cell_type": "code",
   "execution_count": null,
   "metadata": {},
   "outputs": [],
   "source": [
    "import networkx as nx\n",
    "import numpy as np\n",
    "import matplotlib.pyplot as plt\n",
    "import matplotlib.colors as mclr\n",
    "import dill\n",
    "from copy import deepcopy"
   ]
  },
  {
   "cell_type": "code",
   "execution_count": null,
   "metadata": {},
   "outputs": [],
   "source": [
    "with open('menu_transfer.pickle', 'rb') as infile:\n",
    "    menu = dill.load(infile)"
   ]
  },
  {
   "cell_type": "code",
   "execution_count": null,
   "metadata": {},
   "outputs": [],
   "source": [
    "entry = 'ABCDEFGHIJKLMNOPQRSTUVWXYZ'"
   ]
  },
  {
   "cell_type": "code",
   "execution_count": null,
   "metadata": {},
   "outputs": [],
   "source": [
    "pairs = {0: {'O', 'Z'},\n",
    " 1: {'H', 'J'},\n",
    " 2: {'Q', 'W'},\n",
    " 3: {'G', 'H'},\n",
    " 4: {'A', 'F'},\n",
    " 5: {'R', 'T'},\n",
    " 6: {'A', 'C'},\n",
    " 7: {'B', 'T'},\n",
    " 8: {'E', 'T'},\n",
    " 9: {'A', 'T'},\n",
    " 10: {'J', 'U'},\n",
    " 11: {'J', 'T'},\n",
    " 12: {'A', 'I'},\n",
    " 13: {'D', 'F'},\n",
    " 14: {'Q', 'U'},\n",
    " 15: {'L', 'X'},\n",
    " 16: {'C', 'D'},\n",
    " 17: {'A', 'O'},\n",
    " 18: {'V', 'Y'}}"
   ]
  },
  {
   "cell_type": "code",
   "execution_count": null,
   "metadata": {},
   "outputs": [],
   "source": [
    "pairs = {k:list(v) for k,v in pairs.items()}"
   ]
  },
  {
   "cell_type": "code",
   "execution_count": null,
   "metadata": {},
   "outputs": [],
   "source": [
    "edges = [(v[0],v[1],{'label':str(k)}) for k,v in pairs.items()]\n",
    "## ,{'position':str(k)}\n",
    "# edges"
   ]
  },
  {
   "cell_type": "code",
   "execution_count": null,
   "metadata": {},
   "outputs": [],
   "source": [
    "edges"
   ]
  },
  {
   "cell_type": "code",
   "execution_count": null,
   "metadata": {},
   "outputs": [],
   "source": [
    "MG = nx.MultiGraph()"
   ]
  },
  {
   "cell_type": "code",
   "execution_count": null,
   "metadata": {},
   "outputs": [],
   "source": [
    "# for p in edges:\n",
    "#     MG.add_edge(u_for_edge=p[0], v_for_edge=p[1], label=p[2]['label'])"
   ]
  },
  {
   "cell_type": "code",
   "execution_count": null,
   "metadata": {},
   "outputs": [],
   "source": [
    "MG.add_edges_from(edges,)"
   ]
  },
  {
   "cell_type": "code",
   "execution_count": null,
   "metadata": {},
   "outputs": [],
   "source": [
    "# MG.edges"
   ]
  },
  {
   "cell_type": "code",
   "execution_count": null,
   "metadata": {},
   "outputs": [],
   "source": [
    "# MG.nodes"
   ]
  },
  {
   "cell_type": "code",
   "execution_count": null,
   "metadata": {},
   "outputs": [],
   "source": [
    "pos = nx.spring_layout(MG,k=0.4,scale=1)"
   ]
  },
  {
   "cell_type": "code",
   "execution_count": null,
   "metadata": {},
   "outputs": [],
   "source": [
    "pos"
   ]
  },
  {
   "cell_type": "code",
   "execution_count": null,
   "metadata": {},
   "outputs": [],
   "source": [
    "fig, ax = plt.subplots(figsize=(8,8))\n",
    "\n",
    "nx.draw_networkx(MG,pos=pos)\n",
    "\n",
    "labels = nx.get_edge_attributes(MG,'label')\n",
    "labels = {(k[0],k[1]):v for k,v in labels.items()}  ## doesnt' seem to be able to deal with labels for multiples edges\n",
    "edge_labels = nx.draw_networkx_edge_labels(MG,pos=pos,edge_labels=labels)"
   ]
  },
  {
   "cell_type": "code",
   "execution_count": null,
   "metadata": {},
   "outputs": [],
   "source": [
    "# G = nx.Graph()"
   ]
  },
  {
   "cell_type": "code",
   "execution_count": null,
   "metadata": {},
   "outputs": [],
   "source": [
    "# G.add_edges_from(edges)"
   ]
  },
  {
   "cell_type": "code",
   "execution_count": null,
   "metadata": {},
   "outputs": [],
   "source": [
    "# G.edges"
   ]
  },
  {
   "cell_type": "code",
   "execution_count": null,
   "metadata": {},
   "outputs": [],
   "source": [
    "# pos = nx.spring_layout(G) # positions for all nodes\n",
    "\n",
    "# # nodes\n",
    "# nx.draw_networkx_nodes(G,pos,node_size=400)\n",
    "\n",
    "# # labels\n",
    "# nx.draw_networkx_labels(G,pos,font_size=20,font_family='sans-serif')\n",
    "\n",
    "# # edges\n",
    "# nx.draw_networkx_edges(G,pos,edgelist=edges, width=6)\n",
    "\n",
    "# # weights\n",
    "# labels = nx.get_edge_attributes(G,'label')\n",
    "# nx.draw_networkx_edge_labels(G,pos,edge_labels=labels)"
   ]
  },
  {
   "cell_type": "code",
   "execution_count": null,
   "metadata": {},
   "outputs": [],
   "source": [
    "menu"
   ]
  },
  {
   "cell_type": "code",
   "execution_count": null,
   "metadata": {},
   "outputs": [],
   "source": [
    "edges[:3]"
   ]
  },
  {
   "cell_type": "code",
   "execution_count": null,
   "metadata": {},
   "outputs": [],
   "source": [
    "for c in entry:\n",
    "    print(c)"
   ]
  },
  {
   "cell_type": "code",
   "execution_count": null,
   "metadata": {},
   "outputs": [],
   "source": [
    "bombes = [k  if type(k) == int else 'REG' for k in menu.keys()]\n",
    "bchars = [ch for ch in entry]\n",
    "# bminimenu = {b:deepcopy(menu[b]) for b in bombes}\n",
    "# bminimenu\n",
    "print(bombes)\n",
    "print(bchars)"
   ]
  },
  {
   "cell_type": "code",
   "execution_count": null,
   "metadata": {},
   "outputs": [],
   "source": [
    "# cminimenu = deepcopy(bminimenu)\n",
    "# for k,v in bminimenu.items():\n",
    "#     for inorout in ['conx_in','conx_out']:\n",
    "#         for n,l in v[inorout].items():\n",
    "\n",
    "#             if n not in bombes:\n",
    "#                 del cminimenu[k][inorout][n]\n",
    "# bminimenu = deepcopy(cminimenu)\n",
    "# del cminimenu\n",
    "# bminimenu"
   ]
  },
  {
   "cell_type": "code",
   "execution_count": null,
   "metadata": {},
   "outputs": [],
   "source": [
    "iomap = {'in':'I', 'out':'O', 'conx_in':'I', 'conx_out':'O'}"
   ]
  },
  {
   "cell_type": "code",
   "execution_count": null,
   "metadata": {},
   "outputs": [],
   "source": [
    "## base graph just treating each scrambler as a single node\n",
    "BG = nx.Graph()\n",
    "BG.add_nodes_from(bombes)\n",
    "BG.nodes"
   ]
  },
  {
   "cell_type": "code",
   "execution_count": null,
   "metadata": {},
   "outputs": [],
   "source": [
    "base_edges = set()\n",
    "for scrambler,descriptor_dict in menu.items():\n",
    "    if scrambler == 'config':\n",
    "        pass\n",
    "    else:\n",
    "        for inorout in ['conx_in','conx_out']:\n",
    "            for connected_scrambler,ior in descriptor_dict[inorout].items():  \n",
    "                ## the dictionary of connections that is the value for each 'conx_in/out' keys\n",
    "    #             print(scrambler, connected_scrambler)\n",
    "                if connected_scrambler == 'config':\n",
    "                    pass\n",
    "                else:\n",
    "                    base_edges.add(frozenset([scrambler,connected_scrambler]))\n",
    "            \n",
    "base_edges = [tuple(be) for be in base_edges]  # turn set of frozensets into list of tuples\n",
    "print(base_edges)"
   ]
  },
  {
   "cell_type": "code",
   "execution_count": null,
   "metadata": {},
   "outputs": [],
   "source": [
    "BG.add_edges_from(base_edges)\n",
    "BG.edges"
   ]
  },
  {
   "cell_type": "code",
   "execution_count": null,
   "metadata": {},
   "outputs": [],
   "source": [
    "# base_pos = nx.spring_layout(BG,scale=0.05)\n",
    "base_pos = nx.circular_layout(BG,scale=1)\n",
    "# base_pos"
   ]
  },
  {
   "cell_type": "code",
   "execution_count": null,
   "metadata": {},
   "outputs": [],
   "source": [
    "base_pos"
   ]
  },
  {
   "cell_type": "code",
   "execution_count": null,
   "metadata": {},
   "outputs": [],
   "source": [
    "fig, ax = plt.subplots(figsize=(12,8))\n",
    "\n",
    "nx.draw_networkx(BG,pos=base_pos)"
   ]
  },
  {
   "cell_type": "code",
   "execution_count": null,
   "metadata": {},
   "outputs": [],
   "source": [
    "TG = nx.Graph()"
   ]
  },
  {
   "cell_type": "code",
   "execution_count": null,
   "metadata": {},
   "outputs": [],
   "source": [
    "for bid in bombes:\n",
    "    for i in iomap.values():\n",
    "        for ch in entry:\n",
    "#             this = f\"{bid}-{i}-{ch}\"\n",
    "            TG.add_node(f\"{bid}-{i}-{ch}\")\n",
    "# del this"
   ]
  },
  {
   "cell_type": "code",
   "execution_count": null,
   "metadata": {},
   "outputs": [],
   "source": [
    "# TG.nodes"
   ]
  },
  {
   "cell_type": "code",
   "execution_count": null,
   "metadata": {},
   "outputs": [],
   "source": [
    "grey = mclr.to_rgba('grey',0.5)\n",
    "red = mclr.to_rgba('red',0.9)"
   ]
  },
  {
   "cell_type": "code",
   "execution_count": null,
   "metadata": {},
   "outputs": [],
   "source": [
    "edges = set()\n",
    "for scrambler,v in menu.items():\n",
    "    if scrambler == 'config':\n",
    "        pass\n",
    "    else:\n",
    "        for inorout in ['conx_in','conx_out']:\n",
    "            first_node = f\"{scrambler}-{iomap[inorout]}-\"\n",
    "            for connected_scrambler,ior in v[inorout].items():\n",
    "                second_node = f\"{connected_scrambler}-{iomap[ior]}-\"\n",
    "                for ch in bchars:\n",
    "                    edges.add(frozenset([first_node+ch,second_node+ch]))\n",
    "\n",
    "edges = [list(fs) for fs in edges]\n",
    "for e in edges:\n",
    "    e.append({'color': grey})\n",
    "edges = [tuple(fs) for fs in edges]\n",
    "# print(edges)"
   ]
  },
  {
   "cell_type": "code",
   "execution_count": null,
   "metadata": {},
   "outputs": [],
   "source": [
    "TG.add_edges_from(edges)"
   ]
  },
  {
   "cell_type": "code",
   "execution_count": null,
   "metadata": {},
   "outputs": [],
   "source": [
    "# TG.edges"
   ]
  },
  {
   "cell_type": "code",
   "execution_count": null,
   "metadata": {},
   "outputs": [],
   "source": [
    "# %%time\n",
    "width_of_bombe = 0.07\n",
    "height_of_bombe = 0.04\n",
    "\n",
    "wrange_of_letters = list(np.linspace(-0.5*width_of_bombe,0.5*width_of_bombe,26))\n",
    "\n",
    "manual_pos = {}\n",
    "\n",
    "for nd in TG.nodes():\n",
    "    bid,io, ch = nd.split('-')\n",
    "    try:\n",
    "        bid = int(bid)\n",
    "    except:\n",
    "        pass\n",
    "    x,y = base_pos[bid]\n",
    "    \n",
    "    if io == 'I':\n",
    "        y += -0.5 * height_of_bombe\n",
    "    else:\n",
    "        y += 0.5 * height_of_bombe\n",
    "        \n",
    "    x += wrange_of_letters[entry.index(ch)]\n",
    "    manual_pos[nd] = np.array([x,y])\n",
    "\n",
    "# manual_pos"
   ]
  },
  {
   "cell_type": "code",
   "execution_count": null,
   "metadata": {},
   "outputs": [],
   "source": [
    "# TG.edges[('6-I-A', '17-I-A')]['color'] = red"
   ]
  },
  {
   "cell_type": "code",
   "execution_count": null,
   "metadata": {},
   "outputs": [],
   "source": [
    "colors = [TG[u][v]['color'] for u,v in TG.edges()]\n",
    "# colors"
   ]
  },
  {
   "cell_type": "code",
   "execution_count": null,
   "metadata": {},
   "outputs": [],
   "source": [
    "fig, ax = plt.subplots(figsize=(15,10))\n",
    "\n",
    "nx.draw_networkx_labels(BG,pos=base_pos)\n",
    "\n",
    "nx.draw_networkx_edges(TG,pos=manual_pos,edge_color=colors)\n",
    "nx.draw_networkx_nodes(TG,pos=manual_pos, node_size=5)\n",
    "\n",
    "plt.show()"
   ]
  },
  {
   "cell_type": "code",
   "execution_count": null,
   "metadata": {},
   "outputs": [],
   "source": [
    "# manual_pos"
   ]
  },
  {
   "cell_type": "code",
   "execution_count": null,
   "metadata": {},
   "outputs": [],
   "source": [
    "nx.draw_kamada_kawai(TG)"
   ]
  },
  {
   "cell_type": "code",
   "execution_count": null,
   "metadata": {},
   "outputs": [],
   "source": []
  }
 ],
 "metadata": {
  "kernelspec": {
   "display_name": "Python 3",
   "language": "python",
   "name": "python3"
  },
  "language_info": {
   "codemirror_mode": {
    "name": "ipython",
    "version": 3
   },
   "file_extension": ".py",
   "mimetype": "text/x-python",
   "name": "python",
   "nbconvert_exporter": "python",
   "pygments_lexer": "ipython3",
   "version": "3.7.8"
  }
 },
 "nbformat": 4,
 "nbformat_minor": 4
}
