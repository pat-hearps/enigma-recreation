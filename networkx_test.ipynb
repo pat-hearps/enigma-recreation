{
 "cells": [
  {
   "cell_type": "code",
   "execution_count": 152,
   "metadata": {},
   "outputs": [],
   "source": [
    "import networkx as nx\n",
    "import numpy as np\n",
    "import matplotlib.pyplot as plt\n",
    "import matplotlib.colors as mclr\n",
    "import dill\n",
    "from copy import deepcopy"
   ]
  },
  {
   "cell_type": "code",
   "execution_count": 2,
   "metadata": {},
   "outputs": [],
   "source": [
    "with open('menu_transfer.pickle', 'rb') as infile:\n",
    "    menu = dill.load(infile)"
   ]
  },
  {
   "cell_type": "code",
   "execution_count": 120,
   "metadata": {},
   "outputs": [],
   "source": [
    "entry = 'ABCDEFGHIJKLMNOPQRSTUVWXYZ'"
   ]
  },
  {
   "cell_type": "code",
   "execution_count": 4,
   "metadata": {},
   "outputs": [],
   "source": [
    "pairs = {0: {'O', 'Z'},\n",
    " 1: {'H', 'J'},\n",
    " 2: {'Q', 'W'},\n",
    " 3: {'G', 'H'},\n",
    " 4: {'A', 'F'},\n",
    " 5: {'R', 'T'},\n",
    " 6: {'A', 'C'},\n",
    " 7: {'B', 'T'},\n",
    " 8: {'E', 'T'},\n",
    " 9: {'A', 'T'},\n",
    " 10: {'J', 'U'},\n",
    " 11: {'J', 'T'},\n",
    " 12: {'A', 'I'},\n",
    " 13: {'D', 'F'},\n",
    " 14: {'Q', 'U'},\n",
    " 15: {'L', 'X'},\n",
    " 16: {'C', 'D'},\n",
    " 17: {'A', 'O'},\n",
    " 18: {'V', 'Y'}}"
   ]
  },
  {
   "cell_type": "code",
   "execution_count": 5,
   "metadata": {},
   "outputs": [],
   "source": [
    "pairs = {k:list(v) for k,v in pairs.items()}"
   ]
  },
  {
   "cell_type": "code",
   "execution_count": 6,
   "metadata": {},
   "outputs": [],
   "source": [
    "edges = [(v[0],v[1],{'label':str(k)}) for k,v in pairs.items()]\n",
    "## ,{'position':str(k)}\n",
    "# edges"
   ]
  },
  {
   "cell_type": "code",
   "execution_count": 18,
   "metadata": {},
   "outputs": [
    {
     "data": {
      "text/plain": [
       "[('O', 'Z', {'label': '0'}),\n",
       " ('H', 'J', {'label': '1'}),\n",
       " ('W', 'Q', {'label': '2'}),\n",
       " ('H', 'G', {'label': '3'}),\n",
       " ('A', 'F', {'label': '4'}),\n",
       " ('R', 'T', {'label': '5'}),\n",
       " ('A', 'C', {'label': '6'}),\n",
       " ('B', 'T', {'label': '7'}),\n",
       " ('E', 'T', {'label': '8'}),\n",
       " ('A', 'T', {'label': '9'}),\n",
       " ('J', 'U', {'label': '10'}),\n",
       " ('J', 'T', {'label': '11'}),\n",
       " ('A', 'I', {'label': '12'}),\n",
       " ('F', 'D', {'label': '13'}),\n",
       " ('U', 'Q', {'label': '14'}),\n",
       " ('L', 'X', {'label': '15'}),\n",
       " ('D', 'C', {'label': '16'}),\n",
       " ('A', 'O', {'label': '17'}),\n",
       " ('Y', 'V', {'label': '18'})]"
      ]
     },
     "execution_count": 18,
     "metadata": {},
     "output_type": "execute_result"
    }
   ],
   "source": [
    "edges"
   ]
  },
  {
   "cell_type": "code",
   "execution_count": 7,
   "metadata": {},
   "outputs": [],
   "source": [
    "MG = nx.MultiGraph()"
   ]
  },
  {
   "cell_type": "code",
   "execution_count": 8,
   "metadata": {},
   "outputs": [],
   "source": [
    "# for p in edges:\n",
    "#     MG.add_edge(u_for_edge=p[0], v_for_edge=p[1], label=p[2]['label'])"
   ]
  },
  {
   "cell_type": "code",
   "execution_count": 9,
   "metadata": {},
   "outputs": [
    {
     "data": {
      "text/plain": [
       "[0, 0, 0, 0, 0, 0, 0, 0, 0, 0, 0, 0, 0, 0, 0, 0, 0, 0, 0]"
      ]
     },
     "execution_count": 9,
     "metadata": {},
     "output_type": "execute_result"
    }
   ],
   "source": [
    "MG.add_edges_from(edges,)"
   ]
  },
  {
   "cell_type": "code",
   "execution_count": 10,
   "metadata": {},
   "outputs": [],
   "source": [
    "# MG.edges"
   ]
  },
  {
   "cell_type": "code",
   "execution_count": 11,
   "metadata": {},
   "outputs": [],
   "source": [
    "# MG.nodes"
   ]
  },
  {
   "cell_type": "code",
   "execution_count": 12,
   "metadata": {},
   "outputs": [],
   "source": [
    "pos = nx.spring_layout(MG,k=0.4,scale=1)"
   ]
  },
  {
   "cell_type": "code",
   "execution_count": 13,
   "metadata": {},
   "outputs": [
    {
     "data": {
      "text/plain": [
       "{'O': array([0.52195073, 0.32380518]),\n",
       " 'Z': array([0.62792736, 0.50649739]),\n",
       " 'H': array([-0.54537033,  0.24078484]),\n",
       " 'J': array([-0.34775782,  0.03910152]),\n",
       " 'W': array([-0.50667358, -0.66276244]),\n",
       " 'Q': array([-0.40530371, -0.47963976]),\n",
       " 'G': array([-0.6208211 ,  0.45477223]),\n",
       " 'A': array([0.35316203, 0.08943943]),\n",
       " 'F': array([ 0.30836846, -0.13426719]),\n",
       " 'R': array([-0.016579  , -0.04786637]),\n",
       " 'T': array([-0.0119874 ,  0.11125028]),\n",
       " 'C': array([ 0.48450463, -0.10514969]),\n",
       " 'B': array([0.00289218, 0.31717149]),\n",
       " 'E': array([-0.17362951,  0.12995702]),\n",
       " 'U': array([-0.43381383, -0.23399891]),\n",
       " 'I': array([0.57492434, 0.11808877]),\n",
       " 'D': array([ 0.40783551, -0.27024738]),\n",
       " 'L': array([ 0.21126346, -1.        ]),\n",
       " 'X': array([ 0.3382888, -0.9551535]),\n",
       " 'Y': array([-0.43242977,  0.73285829]),\n",
       " 'V': array([-0.33675146,  0.8253588 ])}"
      ]
     },
     "execution_count": 13,
     "metadata": {},
     "output_type": "execute_result"
    }
   ],
   "source": [
    "pos"
   ]
  },
  {
   "cell_type": "code",
   "execution_count": 14,
   "metadata": {},
   "outputs": [
    {
     "data": {
      "image/png": "[encoded data removed]",
      "text/plain": [
       "<Figure size 576x576 with 1 Axes>"
      ]
     },
     "metadata": {},
     "output_type": "display_data"
    }
   ],
   "source": [
    "fig, ax = plt.subplots(figsize=(8,8))\n",
    "\n",
    "nx.draw_networkx(MG,pos=pos)\n",
    "\n",
    "labels = nx.get_edge_attributes(MG,'label')\n",
    "labels = {(k[0],k[1]):v for k,v in labels.items()}  ## doesnt' seem to be able to deal with labels for multiples edges\n",
    "edge_labels = nx.draw_networkx_edge_labels(MG,pos=pos,edge_labels=labels)"
   ]
  },
  {
   "cell_type": "code",
   "execution_count": 15,
   "metadata": {},
   "outputs": [],
   "source": [
    "# G = nx.Graph()"
   ]
  },
  {
   "cell_type": "code",
   "execution_count": 82,
   "metadata": {},
   "outputs": [],
   "source": [
    "# G.add_edges_from(edges)"
   ]
  },
  {
   "cell_type": "code",
   "execution_count": 12,
   "metadata": {},
   "outputs": [],
   "source": [
    "# G.edges"
   ]
  },
  {
   "cell_type": "code",
   "execution_count": 13,
   "metadata": {},
   "outputs": [],
   "source": [
    "# pos = nx.spring_layout(G) # positions for all nodes\n",
    "\n",
    "# # nodes\n",
    "# nx.draw_networkx_nodes(G,pos,node_size=400)\n",
    "\n",
    "# # labels\n",
    "# nx.draw_networkx_labels(G,pos,font_size=20,font_family='sans-serif')\n",
    "\n",
    "# # edges\n",
    "# nx.draw_networkx_edges(G,pos,edgelist=edges, width=6)\n",
    "\n",
    "# # weights\n",
    "# labels = nx.get_edge_attributes(G,'label')\n",
    "# nx.draw_networkx_edge_labels(G,pos,edge_labels=labels)"
   ]
  },
  {
   "cell_type": "code",
   "execution_count": 16,
   "metadata": {},
   "outputs": [
    {
     "data": {
      "text/plain": [
       "{6: {'in': 'A',\n",
       "  'out': 'M',\n",
       "  'menu_link': 'ZZF',\n",
       "  'conx_in': {10: 'out', 17: 'in', 4: 'out', 9: 'in'},\n",
       "  'conx_out': {8: 'in'}},\n",
       " 8: {'in': 'M',\n",
       "  'out': 'E',\n",
       "  'menu_link': 'ZZH',\n",
       "  'conx_in': {6: 'out'},\n",
       "  'conx_out': {14: 'in', 17: 'out'}},\n",
       " 14: {'in': 'E',\n",
       "  'out': 'U',\n",
       "  'menu_link': 'ZZN',\n",
       "  'conx_in': {8: 'out', 17: 'out'},\n",
       "  'conx_out': {10: 'in'}},\n",
       " 10: {'in': 'U',\n",
       "  'out': 'A',\n",
       "  'menu_link': 'ZZJ',\n",
       "  'conx_in': {14: 'out'},\n",
       "  'conx_out': {6: 'in', 17: 'in', 4: 'out', 9: 'in'}},\n",
       " 17: {'in': 'A',\n",
       "  'out': 'E',\n",
       "  'menu_link': 'ZZQ',\n",
       "  'conx_in': {6: 'in', 10: 'out', 4: 'out', 9: 'in'},\n",
       "  'conx_out': {8: 'out', 14: 'in'}},\n",
       " 11: {'in': 'T',\n",
       "  'out': 'I',\n",
       "  'menu_link': 'ZZK',\n",
       "  'conx_in': {3: 'in', 13: 'in'},\n",
       "  'conx_out': {12: 'in'}},\n",
       " 12: {'in': 'I',\n",
       "  'out': 'P',\n",
       "  'menu_link': 'ZZL',\n",
       "  'conx_in': {11: 'out'},\n",
       "  'conx_out': {4: 'in'}},\n",
       " 4: {'in': 'P',\n",
       "  'out': 'A',\n",
       "  'menu_link': 'ZZD',\n",
       "  'conx_in': {12: 'out'},\n",
       "  'conx_out': {6: 'in', 10: 'out', 17: 'in', 9: 'in'}},\n",
       " 9: {'in': 'A',\n",
       "  'out': 'X',\n",
       "  'menu_link': 'ZZI',\n",
       "  'conx_in': {6: 'in', 10: 'out', 17: 'in', 4: 'out'},\n",
       "  'conx_out': {}},\n",
       " 3: {'in': 'T',\n",
       "  'out': 'H',\n",
       "  'menu_link': 'ZZC',\n",
       "  'conx_in': {11: 'in', 13: 'in'},\n",
       "  'conx_out': {1: 'in'}},\n",
       " 1: {'in': 'H',\n",
       "  'out': 'S',\n",
       "  'menu_link': 'ZZA',\n",
       "  'conx_in': {3: 'out'},\n",
       "  'conx_out': {}},\n",
       " 13: {'in': 'T',\n",
       "  'out': 'F',\n",
       "  'menu_link': 'ZZM',\n",
       "  'conx_in': {11: 'in', 3: 'in'},\n",
       "  'conx_out': {}},\n",
       " 'config': {'test_char': 'A',\n",
       "  'menu_link': 'QQQ',\n",
       "  'in': 'A',\n",
       "  'out': 'A',\n",
       "  'conx_in': {6: 'in', 10: 'out', 17: 'in', 4: 'out', 9: 'in'},\n",
       "  'conx_out': {6: 'in', 10: 'out', 17: 'in', 4: 'out', 9: 'in'}}}"
      ]
     },
     "execution_count": 16,
     "metadata": {},
     "output_type": "execute_result"
    }
   ],
   "source": [
    "menu"
   ]
  },
  {
   "cell_type": "code",
   "execution_count": 20,
   "metadata": {},
   "outputs": [
    {
     "data": {
      "text/plain": [
       "[('O', 'Z', {'label': '0'}),\n",
       " ('H', 'J', {'label': '1'}),\n",
       " ('W', 'Q', {'label': '2'})]"
      ]
     },
     "execution_count": 20,
     "metadata": {},
     "output_type": "execute_result"
    }
   ],
   "source": [
    "edges[:3]"
   ]
  },
  {
   "cell_type": "code",
   "execution_count": 124,
   "metadata": {},
   "outputs": [
    {
     "data": {
      "text/plain": [
       "{6: {'in': 'A',\n",
       "  'out': 'M',\n",
       "  'menu_link': 'ZZF',\n",
       "  'conx_in': {10: 'out', 17: 'in', 4: 'out', 9: 'in'},\n",
       "  'conx_out': {8: 'in'}},\n",
       " 10: {'in': 'U',\n",
       "  'out': 'A',\n",
       "  'menu_link': 'ZZJ',\n",
       "  'conx_in': {14: 'out'},\n",
       "  'conx_out': {6: 'in', 17: 'in', 4: 'out', 9: 'in'}},\n",
       " 17: {'in': 'A',\n",
       "  'out': 'E',\n",
       "  'menu_link': 'ZZQ',\n",
       "  'conx_in': {6: 'in', 10: 'out', 4: 'out', 9: 'in'},\n",
       "  'conx_out': {8: 'out', 14: 'in'}}}"
      ]
     },
     "execution_count": 124,
     "metadata": {},
     "output_type": "execute_result"
    }
   ],
   "source": [
    "bombes = [6,10,17]\n",
    "bchars = ['A','B','C','X','Y','Z']\n",
    "bminimenu = {b:deepcopy(menu[b]) for b in bombes}\n",
    "bminimenu"
   ]
  },
  {
   "cell_type": "code",
   "execution_count": 125,
   "metadata": {},
   "outputs": [
    {
     "data": {
      "text/plain": [
       "{6: {'in': 'A',\n",
       "  'out': 'M',\n",
       "  'menu_link': 'ZZF',\n",
       "  'conx_in': {10: 'out', 17: 'in'},\n",
       "  'conx_out': {}},\n",
       " 10: {'in': 'U',\n",
       "  'out': 'A',\n",
       "  'menu_link': 'ZZJ',\n",
       "  'conx_in': {},\n",
       "  'conx_out': {6: 'in', 17: 'in'}},\n",
       " 17: {'in': 'A',\n",
       "  'out': 'E',\n",
       "  'menu_link': 'ZZQ',\n",
       "  'conx_in': {6: 'in', 10: 'out'},\n",
       "  'conx_out': {}}}"
      ]
     },
     "execution_count": 125,
     "metadata": {},
     "output_type": "execute_result"
    }
   ],
   "source": [
    "cminimenu = deepcopy(bminimenu)\n",
    "for k,v in bminimenu.items():\n",
    "    for inorout in ['conx_in','conx_out']:\n",
    "        for n,l in v[inorout].items():\n",
    "\n",
    "            if n not in bombes:\n",
    "                del cminimenu[k][inorout][n]\n",
    "bminimenu = deepcopy(cminimenu)\n",
    "del cminimenu\n",
    "bminimenu"
   ]
  },
  {
   "cell_type": "code",
   "execution_count": 126,
   "metadata": {},
   "outputs": [],
   "source": [
    "iomap = {'in':'I', 'out':'O', 'conx_in':'I', 'conx_out':'O'}"
   ]
  },
  {
   "cell_type": "code",
   "execution_count": 196,
   "metadata": {},
   "outputs": [],
   "source": [
    "TG = nx.Graph()"
   ]
  },
  {
   "cell_type": "code",
   "execution_count": 197,
   "metadata": {},
   "outputs": [],
   "source": [
    "for bid in bombes:\n",
    "    for i in iomap.values():\n",
    "        for ch in bchars:\n",
    "            this = f\"{bid}-{i}-{ch}\"\n",
    "            TG.add_node(this,)\n",
    "del this"
   ]
  },
  {
   "cell_type": "code",
   "execution_count": 198,
   "metadata": {},
   "outputs": [
    {
     "data": {
      "text/plain": [
       "NodeView(('6-I-A', '6-I-B', '6-I-C', '6-I-X', '6-I-Y', '6-I-Z', '6-O-A', '6-O-B', '6-O-C', '6-O-X', '6-O-Y', '6-O-Z', '10-I-A', '10-I-B', '10-I-C', '10-I-X', '10-I-Y', '10-I-Z', '10-O-A', '10-O-B', '10-O-C', '10-O-X', '10-O-Y', '10-O-Z', '17-I-A', '17-I-B', '17-I-C', '17-I-X', '17-I-Y', '17-I-Z', '17-O-A', '17-O-B', '17-O-C', '17-O-X', '17-O-Y', '17-O-Z'))"
      ]
     },
     "execution_count": 198,
     "metadata": {},
     "output_type": "execute_result"
    }
   ],
   "source": [
    "TG.nodes"
   ]
  },
  {
   "cell_type": "code",
   "execution_count": 213,
   "metadata": {},
   "outputs": [],
   "source": [
    "grey = mclr.to_rgba('grey',0.5)\n",
    "red = mclr.to_rgba('red',0.9)"
   ]
  },
  {
   "cell_type": "code",
   "execution_count": 200,
   "metadata": {},
   "outputs": [
    {
     "data": {
      "text/plain": [
       "{frozenset({'17-I-Y', '6-I-Y'}),\n",
       " frozenset({'10-O-X', '17-I-X'}),\n",
       " frozenset({'10-O-B', '17-I-B'}),\n",
       " frozenset({'10-O-C', '17-I-C'}),\n",
       " frozenset({'17-I-X', '6-I-X'}),\n",
       " frozenset({'10-O-Y', '17-I-Y'}),\n",
       " frozenset({'17-I-B', '6-I-B'}),\n",
       " frozenset({'10-O-Z', '17-I-Z'}),\n",
       " frozenset({'10-O-A', '6-I-A'}),\n",
       " frozenset({'10-O-Z', '6-I-Z'}),\n",
       " frozenset({'10-O-C', '6-I-C'}),\n",
       " frozenset({'10-O-Y', '6-I-Y'}),\n",
       " frozenset({'10-O-X', '6-I-X'}),\n",
       " frozenset({'17-I-C', '6-I-C'}),\n",
       " frozenset({'10-O-B', '6-I-B'}),\n",
       " frozenset({'10-O-A', '17-I-A'}),\n",
       " frozenset({'17-I-A', '6-I-A'}),\n",
       " frozenset({'17-I-Z', '6-I-Z'})}"
      ]
     },
     "execution_count": 200,
     "metadata": {},
     "output_type": "execute_result"
    }
   ],
   "source": [
    "bedges = set()\n",
    "for k,v in bminimenu.items():\n",
    "    for inorout in ['conx_in','conx_out']:\n",
    "#         ior = iomap[inorout]\n",
    "        first_node = f\"{k}-{iomap[inorout]}-\"\n",
    "        for n,l in v[inorout].items():\n",
    "            second_node = f\"{n}-{iomap[l]}-\"\n",
    "#             print(first_node, \" : \",second_node)\n",
    "            for ch in bchars:\n",
    "                this_edge = frozenset([first_node+ch,second_node+ch])\n",
    "#                 print(this_edge)\n",
    "                bedges.add(this_edge)\n",
    "\n",
    "bedges"
   ]
  },
  {
   "cell_type": "code",
   "execution_count": 201,
   "metadata": {},
   "outputs": [
    {
     "data": {
      "text/plain": [
       "[('6-I-Y',\n",
       "  '17-I-Y',\n",
       "  {'color': (0.5019607843137255,\n",
       "    0.5019607843137255,\n",
       "    0.5019607843137255,\n",
       "    0.5)}),\n",
       " ('10-O-X',\n",
       "  '17-I-X',\n",
       "  {'color': (0.5019607843137255,\n",
       "    0.5019607843137255,\n",
       "    0.5019607843137255,\n",
       "    0.5)}),\n",
       " ('10-O-B',\n",
       "  '17-I-B',\n",
       "  {'color': (0.5019607843137255,\n",
       "    0.5019607843137255,\n",
       "    0.5019607843137255,\n",
       "    0.5)}),\n",
       " ('17-I-C',\n",
       "  '10-O-C',\n",
       "  {'color': (0.5019607843137255,\n",
       "    0.5019607843137255,\n",
       "    0.5019607843137255,\n",
       "    0.5)}),\n",
       " ('6-I-X',\n",
       "  '17-I-X',\n",
       "  {'color': (0.5019607843137255,\n",
       "    0.5019607843137255,\n",
       "    0.5019607843137255,\n",
       "    0.5)}),\n",
       " ('10-O-Y',\n",
       "  '17-I-Y',\n",
       "  {'color': (0.5019607843137255,\n",
       "    0.5019607843137255,\n",
       "    0.5019607843137255,\n",
       "    0.5)}),\n",
       " ('17-I-B',\n",
       "  '6-I-B',\n",
       "  {'color': (0.5019607843137255,\n",
       "    0.5019607843137255,\n",
       "    0.5019607843137255,\n",
       "    0.5)}),\n",
       " ('17-I-Z',\n",
       "  '10-O-Z',\n",
       "  {'color': (0.5019607843137255,\n",
       "    0.5019607843137255,\n",
       "    0.5019607843137255,\n",
       "    0.5)}),\n",
       " ('6-I-A',\n",
       "  '10-O-A',\n",
       "  {'color': (0.5019607843137255,\n",
       "    0.5019607843137255,\n",
       "    0.5019607843137255,\n",
       "    0.5)}),\n",
       " ('6-I-Z',\n",
       "  '10-O-Z',\n",
       "  {'color': (0.5019607843137255,\n",
       "    0.5019607843137255,\n",
       "    0.5019607843137255,\n",
       "    0.5)}),\n",
       " ('6-I-C',\n",
       "  '10-O-C',\n",
       "  {'color': (0.5019607843137255,\n",
       "    0.5019607843137255,\n",
       "    0.5019607843137255,\n",
       "    0.5)}),\n",
       " ('10-O-Y',\n",
       "  '6-I-Y',\n",
       "  {'color': (0.5019607843137255,\n",
       "    0.5019607843137255,\n",
       "    0.5019607843137255,\n",
       "    0.5)}),\n",
       " ('6-I-X',\n",
       "  '10-O-X',\n",
       "  {'color': (0.5019607843137255,\n",
       "    0.5019607843137255,\n",
       "    0.5019607843137255,\n",
       "    0.5)}),\n",
       " ('17-I-C',\n",
       "  '6-I-C',\n",
       "  {'color': (0.5019607843137255,\n",
       "    0.5019607843137255,\n",
       "    0.5019607843137255,\n",
       "    0.5)}),\n",
       " ('10-O-B',\n",
       "  '6-I-B',\n",
       "  {'color': (0.5019607843137255,\n",
       "    0.5019607843137255,\n",
       "    0.5019607843137255,\n",
       "    0.5)}),\n",
       " ('17-I-A',\n",
       "  '10-O-A',\n",
       "  {'color': (0.5019607843137255,\n",
       "    0.5019607843137255,\n",
       "    0.5019607843137255,\n",
       "    0.5)}),\n",
       " ('6-I-A',\n",
       "  '17-I-A',\n",
       "  {'color': (0.5019607843137255,\n",
       "    0.5019607843137255,\n",
       "    0.5019607843137255,\n",
       "    0.5)}),\n",
       " ('6-I-Z',\n",
       "  '17-I-Z',\n",
       "  {'color': (0.5019607843137255,\n",
       "    0.5019607843137255,\n",
       "    0.5019607843137255,\n",
       "    0.5)})]"
      ]
     },
     "execution_count": 201,
     "metadata": {},
     "output_type": "execute_result"
    }
   ],
   "source": [
    "bedges = [list(fs) for fs in bedges]\n",
    "for b in bedges:\n",
    "    b.append({'color': grey})\n",
    "bedges = [tuple(fs) for fs in bedges]\n",
    "bedges"
   ]
  },
  {
   "cell_type": "code",
   "execution_count": 202,
   "metadata": {},
   "outputs": [],
   "source": [
    "TG.add_edges_from(bedges)"
   ]
  },
  {
   "cell_type": "code",
   "execution_count": 203,
   "metadata": {},
   "outputs": [
    {
     "data": {
      "text/plain": [
       "EdgeView([('6-I-A', '10-O-A'), ('6-I-A', '17-I-A'), ('6-I-B', '17-I-B'), ('6-I-B', '10-O-B'), ('6-I-C', '10-O-C'), ('6-I-C', '17-I-C'), ('6-I-X', '17-I-X'), ('6-I-X', '10-O-X'), ('6-I-Y', '17-I-Y'), ('6-I-Y', '10-O-Y'), ('6-I-Z', '10-O-Z'), ('6-I-Z', '17-I-Z'), ('10-O-A', '17-I-A'), ('10-O-B', '17-I-B'), ('10-O-C', '17-I-C'), ('10-O-X', '17-I-X'), ('10-O-Y', '17-I-Y'), ('10-O-Z', '17-I-Z')])"
      ]
     },
     "execution_count": 203,
     "metadata": {},
     "output_type": "execute_result"
    }
   ],
   "source": [
    "TG.edges"
   ]
  },
  {
   "cell_type": "code",
   "execution_count": 204,
   "metadata": {},
   "outputs": [
    {
     "data": {
      "text/plain": [
       "NodeView((6, 10, 17))"
      ]
     },
     "execution_count": 204,
     "metadata": {},
     "output_type": "execute_result"
    }
   ],
   "source": [
    "BG = nx.Graph()\n",
    "BG.add_nodes_from(bombes)\n",
    "BG.nodes"
   ]
  },
  {
   "cell_type": "code",
   "execution_count": 205,
   "metadata": {},
   "outputs": [],
   "source": [
    "base_pos = nx.circular_layout(BG,scale=0.05)"
   ]
  },
  {
   "cell_type": "code",
   "execution_count": 206,
   "metadata": {},
   "outputs": [
    {
     "data": {
      "text/plain": [
       "{6: array([5.00000000e-02, 9.93410756e-10]),\n",
       " 10: array([-0.025     ,  0.04330127]),\n",
       " 17: array([-0.025     , -0.04330127])}"
      ]
     },
     "execution_count": 206,
     "metadata": {},
     "output_type": "execute_result"
    }
   ],
   "source": [
    "base_pos"
   ]
  },
  {
   "cell_type": "code",
   "execution_count": 207,
   "metadata": {},
   "outputs": [],
   "source": [
    "# %%time\n",
    "width_of_bombe = 0.02\n",
    "height_of_bombe = 0.01\n",
    "\n",
    "wrange_of_letters = list(np.linspace(-0.5*width_of_bombe,0.5*width_of_bombe,26))\n",
    "\n",
    "manual_pos = {}\n",
    "\n",
    "for nd in TG.nodes():\n",
    "    bid,io, ch = nd.split('-')\n",
    "    bid = int(bid)\n",
    "    x,y = base_pos[bid]\n",
    "    \n",
    "    if io == 'I':\n",
    "        y += -0.5 * height_of_bombe\n",
    "    else:\n",
    "        y += 0.5 * height_of_bombe\n",
    "        \n",
    "    x += wrange_of_letters[entry.index(ch)]\n",
    "    manual_pos[nd] = np.array([x,y])\n",
    "\n",
    "# manual_pos"
   ]
  },
  {
   "cell_type": "code",
   "execution_count": 214,
   "metadata": {},
   "outputs": [],
   "source": [
    "TG.edges[('6-I-A', '17-I-A')]['color'] = red"
   ]
  },
  {
   "cell_type": "code",
   "execution_count": 215,
   "metadata": {},
   "outputs": [
    {
     "data": {
      "text/plain": [
       "[(0.5019607843137255, 0.5019607843137255, 0.5019607843137255, 0.5),\n",
       " (1.0, 0.0, 0.0, 0.9),\n",
       " (0.5019607843137255, 0.5019607843137255, 0.5019607843137255, 0.5),\n",
       " (0.5019607843137255, 0.5019607843137255, 0.5019607843137255, 0.5),\n",
       " (0.5019607843137255, 0.5019607843137255, 0.5019607843137255, 0.5),\n",
       " (0.5019607843137255, 0.5019607843137255, 0.5019607843137255, 0.5),\n",
       " (0.5019607843137255, 0.5019607843137255, 0.5019607843137255, 0.5),\n",
       " (0.5019607843137255, 0.5019607843137255, 0.5019607843137255, 0.5),\n",
       " (0.5019607843137255, 0.5019607843137255, 0.5019607843137255, 0.5),\n",
       " (0.5019607843137255, 0.5019607843137255, 0.5019607843137255, 0.5),\n",
       " (0.5019607843137255, 0.5019607843137255, 0.5019607843137255, 0.5),\n",
       " (0.5019607843137255, 0.5019607843137255, 0.5019607843137255, 0.5),\n",
       " (0.5019607843137255, 0.5019607843137255, 0.5019607843137255, 0.5),\n",
       " (0.5019607843137255, 0.5019607843137255, 0.5019607843137255, 0.5),\n",
       " (0.5019607843137255, 0.5019607843137255, 0.5019607843137255, 0.5),\n",
       " (0.5019607843137255, 0.5019607843137255, 0.5019607843137255, 0.5),\n",
       " (0.5019607843137255, 0.5019607843137255, 0.5019607843137255, 0.5),\n",
       " (0.5019607843137255, 0.5019607843137255, 0.5019607843137255, 0.5)]"
      ]
     },
     "execution_count": 215,
     "metadata": {},
     "output_type": "execute_result"
    }
   ],
   "source": [
    "edges = TG.edges()\n",
    "colors = [TG[u][v]['color'] for u,v in edges]\n",
    "colors"
   ]
  },
  {
   "cell_type": "code",
   "execution_count": 216,
   "metadata": {},
   "outputs": [
    {
     "data": {
      "image/png": "[encoded data removed]",
      "text/plain": [
       "<Figure size 864x576 with 1 Axes>"
      ]
     },
     "metadata": {},
     "output_type": "display_data"
    }
   ],
   "source": [
    "fig, ax = plt.subplots(figsize=(12,8))\n",
    "\n",
    "nx.draw_networkx(BG,pos=base_pos)\n",
    "\n",
    "nx.draw_networkx_edges(TG,pos=manual_pos,edge_color=colors)\n",
    "\n",
    "# labels = nx.get_edge_attributes(MG,'label')\n",
    "# labels = {(k[0],k[1]):v for k,v in labels.items()}  ## doesnt' seem to be able to deal with labels for multiples edges\n",
    "# edge_labels = nx.draw_networkx_edge_labels(MG,pos=pos,edge_labels=labels)\n",
    "plt.show()"
   ]
  },
  {
   "cell_type": "code",
   "execution_count": 144,
   "metadata": {},
   "outputs": [
    {
     "data": {
      "text/plain": [
       "{'6-I-A': array([-0.05, -0.05]),\n",
       " '6-I-B': array([-0.042, -0.05 ]),\n",
       " '6-I-C': array([-0.034, -0.05 ]),\n",
       " '6-I-X': array([ 0.134, -0.05 ]),\n",
       " '6-I-Y': array([ 0.142, -0.05 ]),\n",
       " '6-I-Z': array([ 0.15, -0.05]),\n",
       " '6-O-A': array([-0.05,  0.05]),\n",
       " '6-O-B': array([-0.042,  0.05 ]),\n",
       " '6-O-C': array([-0.034,  0.05 ]),\n",
       " '6-O-X': array([0.134, 0.05 ]),\n",
       " '6-O-Y': array([0.142, 0.05 ]),\n",
       " '6-O-Z': array([0.15, 0.05]),\n",
       " '10-I-A': array([-0.125     , -0.00669873]),\n",
       " '10-I-B': array([-0.117     , -0.00669873]),\n",
       " '10-I-C': array([-0.109     , -0.00669873]),\n",
       " '10-I-X': array([ 0.059     , -0.00669873]),\n",
       " '10-I-Y': array([ 0.067     , -0.00669873]),\n",
       " '10-I-Z': array([ 0.075     , -0.00669873]),\n",
       " '10-O-A': array([-0.125     ,  0.09330127]),\n",
       " '10-O-B': array([-0.117     ,  0.09330127]),\n",
       " '10-O-C': array([-0.109     ,  0.09330127]),\n",
       " '10-O-X': array([0.059     , 0.09330127]),\n",
       " '10-O-Y': array([0.067     , 0.09330127]),\n",
       " '10-O-Z': array([0.075     , 0.09330127]),\n",
       " '17-I-A': array([-0.125     , -0.09330127]),\n",
       " '17-I-B': array([-0.117     , -0.09330127]),\n",
       " '17-I-C': array([-0.109     , -0.09330127]),\n",
       " '17-I-X': array([ 0.059     , -0.09330127]),\n",
       " '17-I-Y': array([ 0.067     , -0.09330127]),\n",
       " '17-I-Z': array([ 0.075     , -0.09330127]),\n",
       " '17-O-A': array([-0.125     ,  0.00669873]),\n",
       " '17-O-B': array([-0.117     ,  0.00669873]),\n",
       " '17-O-C': array([-0.109     ,  0.00669873]),\n",
       " '17-O-X': array([0.059     , 0.00669873]),\n",
       " '17-O-Y': array([0.067     , 0.00669873]),\n",
       " '17-O-Z': array([0.075     , 0.00669873])}"
      ]
     },
     "execution_count": 144,
     "metadata": {},
     "output_type": "execute_result"
    }
   ],
   "source": [
    "manual_pos"
   ]
  }
 ],
 "metadata": {
  "kernelspec": {
   "display_name": "Python 3",
   "language": "python",
   "name": "python3"
  },
  "language_info": {
   "codemirror_mode": {
    "name": "ipython",
    "version": 3
   },
   "file_extension": ".py",
   "mimetype": "text/x-python",
   "name": "python",
   "nbconvert_exporter": "python",
   "pygments_lexer": "ipython3",
   "version": "3.6.8"
  }
 },
 "nbformat": 4,
 "nbformat_minor": 2
}
